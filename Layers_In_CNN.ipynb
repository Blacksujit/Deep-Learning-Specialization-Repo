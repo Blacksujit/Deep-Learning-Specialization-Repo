{
 "cells": [
  {
   "cell_type": "code",
   "execution_count": 13,
   "metadata": {},
   "outputs": [
    {
     "name": "stdout",
     "output_type": "stream",
     "text": [
      "An error occurred while trying to create the model diagram: module 'pydot' has no attribute 'InvocationException'\n",
      "Model: \"sequential_11\"\n",
      "Model: \"sequential_11\"\n",
      "_________________________________________________________________\n",
      " Layer (type)                Output Shape              Param #   \n",
      "=================================================================\n",
      " conv2d_33 (Conv2D)          (None, 62, 62, 32)        896       \n",
      "                                                                 \n",
      " max_pooling2d_22 (MaxPoolin  (None, 31, 31, 32)       0         \n",
      " g2D)                                                            \n",
      "                                                                 \n",
      " conv2d_34 (Conv2D)          (None, 29, 29, 64)        18496     \n",
      "                                                                 \n",
      " max_pooling2d_23 (MaxPoolin  (None, 14, 14, 64)       0         \n",
      " g2D)                                                            \n",
      "                                                                 \n",
      " conv2d_35 (Conv2D)          (None, 12, 12, 64)        36928     \n",
      "                                                                 \n",
      " flatten_11 (Flatten)        (None, 9216)              0         \n",
      "                                                                 \n",
      " dense_22 (Dense)            (None, 64)                589888    \n",
      "                                                                 \n",
      " dense_23 (Dense)            (None, 10)                650       \n",
      "                                                                 \n",
      "=================================================================\n",
      "Total params: 646,858\n",
      "Trainable params: 646,858\n",
      "Non-trainable params: 0\n",
      "_________________________________________________________________\n"
     ]
    }
   ],
   "source": [
    "from tensorflow.keras import models, layers  # Importing models and layers\n",
    "from tensorflow.keras.utils import plot_model  # Importing plot_model for visualization\n",
    "\n",
    "# Define a Convolutional Neural Network (CNN) model for predicting the next child image in a family tree\n",
    "def create_family_tree_cnn_model(input_shape, num_classes):\n",
    "    model = models.Sequential()\n",
    "    \n",
    "    # Convolutional layer\n",
    "    model.add(layers.Conv2D(32, (3, 3), activation='relu', input_shape=input_shape))\n",
    "    model.add(layers.MaxPooling2D((2, 2)))\n",
    "    \n",
    "    # Second convolutional layer\n",
    "    model.add(layers.Conv2D(64, (3, 3), activation='relu'))\n",
    "    model.add(layers.MaxPooling2D((2, 2)))\n",
    "    \n",
    "    # Third convolutional layer\n",
    "    model.add(layers.Conv2D(64, (3, 3), activation='relu'))\n",
    "    \n",
    "    # Flatten the output\n",
    "    model.add(layers.Flatten())\n",
    "    \n",
    "    # Fully connected layer\n",
    "    model.add(layers.Dense(64, activation='relu'))\n",
    "    \n",
    "    # Output layer for predicting the next child image\n",
    "    model.add(layers.Dense(num_classes, activation='softmax'))\n",
    "    \n",
    "    return model\n",
    "\n",
    "# Example usage\n",
    "input_shape = (64, 64, 3)  # Input shape for 64x64 RGB images\n",
    "num_classes = 10  # Number of classes representing different potential child images\n",
    "family_tree_cnn_model = create_family_tree_cnn_model(input_shape, num_classes)\n",
    "\n",
    "# Check if pydot is available and plot the model diagram\n",
    "try:\n",
    "    plot_model(family_tree_cnn_model, to_file='family_tree_cnn_model_diagram.png', show_shapes=True, show_layer_names=True)\n",
    "except Exception as e:\n",
    "    print(f\"An error occurred while trying to create the model diagram: {e}\")\n",
    "    print(f\"Model: \\\"{family_tree_cnn_model.name}\\\"\")\n",
    "\n",
    "# Print the model summary to the terminal\n",
    "family_tree_cnn_model.summary()"
   ]
  },
  {
   "cell_type": "code",
   "execution_count": null,
   "metadata": {},
   "outputs": [],
   "source": []
  },
  {
   "cell_type": "code",
   "execution_count": null,
   "metadata": {},
   "outputs": [],
   "source": []
  }
 ],
 "metadata": {
  "kernelspec": {
   "display_name": "Python 3",
   "language": "python",
   "name": "python3"
  },
  "language_info": {
   "codemirror_mode": {
    "name": "ipython",
    "version": 3
   },
   "file_extension": ".py",
   "mimetype": "text/x-python",
   "name": "python",
   "nbconvert_exporter": "python",
   "pygments_lexer": "ipython3",
   "version": "3.11.3"
  }
 },
 "nbformat": 4,
 "nbformat_minor": 2
}
