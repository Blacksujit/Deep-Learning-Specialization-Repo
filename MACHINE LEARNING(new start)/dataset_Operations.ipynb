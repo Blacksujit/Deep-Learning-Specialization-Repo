{
 "cells": [
  {
   "cell_type": "code",
   "execution_count": 30,
   "id": "f5f2e906",
   "metadata": {
    "scrolled": true
   },
   "outputs": [
    {
     "name": "stdout",
     "output_type": "stream",
     "text": [
      "        Name     Age  Health Index  Family Size  family income\n",
      "0     Clive,  1298.0      0.381579           56      1778710.0\n",
      "1  Ferguson,   360.0      0.116539           82      1237893.0\n",
      "2    Berger,   560.0      0.688062           69       482123.0\n",
      "3      Jean,  1145.0      0.929097           25      1743869.0\n",
      "4    Gassée,   243.0      0.975645           24        76585.0\n",
      "        Name  Health Index  Family Size  family income\n",
      "0     Clive,      0.381579           56      1778710.0\n",
      "1  Ferguson,      0.116539           82      1237893.0\n",
      "2    Berger,      0.688062           69       482123.0\n",
      "3      Jean,      0.929097           25      1743869.0\n",
      "4    Gassée,      0.975645           24        76585.0\n",
      "        Name     Age  Family Size  family income\n",
      "0     Clive,  1298.0           56      1778710.0\n",
      "1  Ferguson,   360.0           82      1237893.0\n",
      "2    Berger,   560.0           69       482123.0\n",
      "3      Jean,  1145.0           25      1743869.0\n",
      "4    Gassée,   243.0           24        76585.0\n",
      "\n",
      "----------------------------\n",
      "\n",
      "\n",
      "----------------------------\n",
      "\n",
      "\n",
      "----------------------------\n",
      "\n",
      "Name                Clive,\n",
      "Health Index      0.381579\n",
      "Family Size             56\n",
      "family income    1778710.0\n",
      "Name: 0, dtype: object 1298.0\n",
      "\n",
      "----------------------------\n",
      "\n",
      "       Health Index   Family Size  family income\n",
      "count  10004.000000  1.000400e+04   1.000300e+04\n",
      "mean       0.508725  1.993241e+02   9.038153e+05\n",
      "std        0.921119  1.551832e+04   5.163505e+05\n",
      "min        0.000018  0.000000e+00   1.002600e+04\n",
      "25%        0.246913  2.200000e+01   4.545340e+05\n",
      "50%        0.498878  4.400000e+01   9.049120e+05\n",
      "75%        0.746970  6.700000e+01   1.350198e+06\n",
      "max       88.000000  1.552184e+06   1.799526e+06\n",
      "\n",
      "----------------------------\n",
      "\n",
      "(10004, 4)\n",
      "\n",
      "----------------------------\n",
      "\n",
      "Axes(0.125,0.11;0.775x0.77)\n"
     ]
    },
    {
     "data": {
      "image/png": "[encoded data removed]",
      "text/plain": [
       "<Figure size 640x480 with 1 Axes>"
      ]
     },
     "metadata": {},
     "output_type": "display_data"
    }
   ],
   "source": [
    "import pandas as pd\n",
    "import numpy as np\n",
    "\n",
    "# Load the dataset\n",
    "dftrain = pd.read_csv(\"C:\\\\Users\\\\HP\\\\Downloads\\\\archive (5)\\\\eval.csv\")\n",
    "dfeval = pd.read_csv(\"C:\\\\Users\\\\HP\\\\Downloads\\\\archive (5)\\\\eval.csv\")\n",
    "\n",
    "# Display the first few rows of dftrain\n",
    "print(dftrain.head())\n",
    "\n",
    "# Pop the 'Health Index' column from dftrain and assign it to y_train\n",
    "y_train = dftrain.pop('Age')\n",
    "# Display the first few rows of dftrain after popping the 'Health Index' column\n",
    "print(dftrain.head())\n",
    "\n",
    "# Pop the 'Health Index' column from dfeval and assign it to y_eval\n",
    "y_eval = dfeval.pop('Health Index')\n",
    "\n",
    "# Display the first few rows of dfeval after popping the 'Health Index' column\n",
    "print(dfeval.head())\n",
    "\n",
    "print(\"\\n----------------------------\\n\")\n",
    "\n",
    "# print(y_train)\n",
    "print(\"\\n----------------------------\\n\")\n",
    "\n",
    "print(\"\\n----------------------------\\n\")\n",
    "print(dftrain.loc[0] , y_train.loc[0])\n",
    "\n",
    "print(\"\\n----------------------------\\n\")\n",
    "\n",
    "\n",
    "print(dftrain.describe())\n",
    "\n",
    "print(\"\\n----------------------------\\n\")\n",
    "print(dftrain.shape)\n",
    "print(\"\\n----------------------------\\n\")\n",
    "\n",
    "print(dftrain.Name.hist(bins=20))\n",
    "\n",
    "\n",
    "\n",
    "\n"
   ]
  },
  {
   "cell_type": "code",
   "execution_count": 15,
   "id": "843bfd2c",
   "metadata": {},
   "outputs": [
    {
     "name": "stdout",
     "output_type": "stream",
     "text": [
      "(10004, 4)\n"
     ]
    }
   ],
   "source": [
    "print(dfeval.shape)"
   ]
  },
  {
   "cell_type": "code",
   "execution_count": 22,
   "id": "17291318",
   "metadata": {},
   "outputs": [
    {
     "name": "stdout",
     "output_type": "stream",
     "text": [
      "       Health Index   Family Size  family income\n",
      "count  10004.000000  1.000400e+04   1.000300e+04\n",
      "mean       0.508725  1.993241e+02   9.038153e+05\n",
      "std        0.921119  1.551832e+04   5.163505e+05\n",
      "min        0.000018  0.000000e+00   1.002600e+04\n",
      "25%        0.246913  2.200000e+01   4.545340e+05\n",
      "50%        0.498878  4.400000e+01   9.049120e+05\n",
      "75%        0.746970  6.700000e+01   1.350198e+06\n",
      "max       88.000000  1.552184e+06   1.799526e+06\n"
     ]
    }
   ],
   "source": [
    "print(dftrain.describe())"
   ]
  },
  {
   "cell_type": "code",
   "execution_count": 23,
   "id": "a09d571e",
   "metadata": {},
   "outputs": [],
   "source": [
    "  NUMERIC_COLUMNS = [\"Age\" , \"Name\"]"
   ]
  },
  {
   "cell_type": "code",
   "execution_count": 24,
   "id": "ffc599e9",
   "metadata": {},
   "outputs": [],
   "source": [
    "feature_columns = []"
   ]
  },
  {
   "cell_type": "code",
   "execution_count": 27,
   "id": "33ff838f",
   "metadata": {},
   "outputs": [],
   "source": [
    "new1 = dftrain[\"Name\"].unique()"
   ]
  },
  {
   "cell_type": "code",
   "execution_count": 28,
   "id": "d6f4ed25",
   "metadata": {},
   "outputs": [
    {
     "name": "stdout",
     "output_type": "stream",
     "text": [
      "['Clive,' 'Ferguson,' 'Berger,' ... 'McNair,' '48' 'Forster,']\n"
     ]
    }
   ],
   "source": [
    "print(new1)"
   ]
  },
  {
   "cell_type": "code",
   "execution_count": null,
   "id": "61254768",
   "metadata": {},
   "outputs": [],
   "source": [
    "   "
   ]
  },
  {
   "cell_type": "code",
   "execution_count": null,
   "id": "b2b4b9a6",
   "metadata": {},
   "outputs": [],
   "source": [
    " "
   ]
  }
 ],
 "metadata": {
  "kernelspec": {
   "display_name": "Python 3 (ipykernel)",
   "language": "python",
   "name": "python3"
  },
  "language_info": {
   "codemirror_mode": {
    "name": "ipython",
    "version": 3
   },
   "file_extension": ".py",
   "mimetype": "text/x-python",
   "name": "python",
   "nbconvert_exporter": "python",
   "pygments_lexer": "ipython3",
   "version": "3.11.4"
  }
 },
 "nbformat": 4,
 "nbformat_minor": 5
}
