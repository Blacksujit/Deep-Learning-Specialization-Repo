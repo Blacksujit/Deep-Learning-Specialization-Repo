{
 "cells": [
  {
   "cell_type": "code",
   "execution_count": 2,
   "id": "0914852d-908e-4ece-82f5-ce837070cc1e",
   "metadata": {},
   "outputs": [],
   "source": [
    "import numpy as np\n",
    "\n"
   ]
  },
  {
   "cell_type": "code",
   "execution_count": 3,
   "id": "4d2874e1-0b11-47e7-aa17-d6ba973a1f55",
   "metadata": {},
   "outputs": [],
   "source": [
    "list = [1,2 , 3,4 ,5]"
   ]
  },
  {
   "cell_type": "code",
   "execution_count": 31,
   "id": "57856d8c-3d88-4dec-aa7d-60a5853a1d02",
   "metadata": {},
   "outputs": [
    {
     "data": {
      "text/plain": [
       "[1, 2, 3, 4, 5]"
      ]
     },
     "execution_count": 31,
     "metadata": {},
     "output_type": "execute_result"
    }
   ],
   "source": [
    "list"
   ]
  },
  {
   "cell_type": "code",
   "execution_count": 32,
   "id": "9d2073e7-1e21-41ff-a401-fb40ebbb0aa2",
   "metadata": {},
   "outputs": [
    {
     "data": {
      "text/plain": [
       "<function numpy.array>"
      ]
     },
     "execution_count": 32,
     "metadata": {},
     "output_type": "execute_result"
    }
   ],
   "source": [
    "np.array"
   ]
  },
  {
   "cell_type": "code",
   "execution_count": 33,
   "id": "0a77f67b-4cf3-4609-95b1-15fe0c436769",
   "metadata": {},
   "outputs": [
    {
     "data": {
      "text/plain": [
       "array([1, 2, 3, 4, 5])"
      ]
     },
     "execution_count": 33,
     "metadata": {},
     "output_type": "execute_result"
    }
   ],
   "source": [
    "np.array(list)  #1d vector"
   ]
  },
  {
   "cell_type": "code",
   "execution_count": 34,
   "id": "3e1e105b-16ac-4c79-8adc-ffec20c6266a",
   "metadata": {},
   "outputs": [
    {
     "data": {
      "text/plain": [
       "5"
      ]
     },
     "execution_count": 34,
     "metadata": {},
     "output_type": "execute_result"
    }
   ],
   "source": [
    "len(np.array(list))"
   ]
  },
  {
   "cell_type": "code",
   "execution_count": 35,
   "id": "dcba378c-a427-4fb3-b675-7cf6a6be6a1e",
   "metadata": {},
   "outputs": [],
   "source": [
    "list3= [[1,2 , 4] , [2, 3, 4] ,  [4, 5, 6,]]"
   ]
  },
  {
   "cell_type": "code",
   "execution_count": 36,
   "id": "757b7d03-a0db-4830-9f26-783f0ef7e681",
   "metadata": {},
   "outputs": [
    {
     "data": {
      "text/plain": [
       "[[1, 2, 4], [2, 3, 4], [4, 5, 6]]"
      ]
     },
     "execution_count": 36,
     "metadata": {},
     "output_type": "execute_result"
    }
   ],
   "source": [
    "list3"
   ]
  },
  {
   "cell_type": "code",
   "execution_count": 37,
   "id": "d346bae2-e219-4c89-910d-e56364da0a0b",
   "metadata": {},
   "outputs": [],
   "source": [
    "numparr = np.array(list3)"
   ]
  },
  {
   "cell_type": "code",
   "execution_count": 38,
   "id": "9b86aec0-6f75-43c1-90fe-70f3c79dca1a",
   "metadata": {},
   "outputs": [
    {
     "data": {
      "text/plain": [
       "array([[1, 2, 4],\n",
       "       [2, 3, 4],\n",
       "       [4, 5, 6]])"
      ]
     },
     "execution_count": 38,
     "metadata": {},
     "output_type": "execute_result"
    }
   ],
   "source": [
    "numparr"
   ]
  },
  {
   "cell_type": "code",
   "execution_count": 39,
   "id": "f5aa914a-ada2-4942-b65a-4f87f54af3be",
   "metadata": {},
   "outputs": [
    {
     "data": {
      "text/plain": [
       "(3, 3)"
      ]
     },
     "execution_count": 39,
     "metadata": {},
     "output_type": "execute_result"
    }
   ],
   "source": [
    "np.array(list3).shape"
   ]
  },
  {
   "cell_type": "code",
   "execution_count": 44,
   "id": "0964275a-f7d2-4461-ac9c-5c4d969f75b9",
   "metadata": {},
   "outputs": [
    {
     "data": {
      "text/plain": [
       "array([0, 1, 2, 3, 4])"
      ]
     },
     "execution_count": 44,
     "metadata": {},
     "output_type": "execute_result"
    }
   ],
   "source": [
    "np.arange(5)"
   ]
  },
  {
   "cell_type": "code",
   "execution_count": 45,
   "id": "83fa818a-70b9-4a48-aa19-5b3e079fb551",
   "metadata": {},
   "outputs": [
    {
     "data": {
      "text/plain": [
       "array([[1., 1.],\n",
       "       [1., 1.]])"
      ]
     },
     "execution_count": 45,
     "metadata": {},
     "output_type": "execute_result"
    }
   ],
   "source": [
    "np.ones((2,2))"
   ]
  },
  {
   "cell_type": "code",
   "execution_count": 47,
   "id": "faf18f74-4c83-4d81-b230-de49022ede04",
   "metadata": {},
   "outputs": [
    {
     "ename": "SyntaxError",
     "evalue": "positional argument follows keyword argument (3467314224.py, line 1)",
     "output_type": "error",
     "traceback": [
      "\u001b[1;36m  Cell \u001b[1;32mIn[47], line 1\u001b[1;36m\u001b[0m\n\u001b[1;33m    np.random.randint(5 , size = 2,2)\u001b[0m\n\u001b[1;37m                                    ^\u001b[0m\n\u001b[1;31mSyntaxError\u001b[0m\u001b[1;31m:\u001b[0m positional argument follows keyword argument\n"
     ]
    }
   ],
   "source": [
    "np.random.randint(5 , size = 2,2)"
   ]
  },
  {
   "cell_type": "code",
   "execution_count": null,
   "id": "71130bba-6c50-4a5f-8ee8-84a81bf57af7",
   "metadata": {},
   "outputs": [],
   "source": []
  }
 ],
 "metadata": {
  "kernelspec": {
   "display_name": "Python 3 (ipykernel)",
   "language": "python",
   "name": "python3"
  },
  "language_info": {
   "codemirror_mode": {
    "name": "ipython",
    "version": 3
   },
   "file_extension": ".py",
   "mimetype": "text/x-python",
   "name": "python",
   "nbconvert_exporter": "python",
   "pygments_lexer": "ipython3",
   "version": "3.11.3"
  }
 },
 "nbformat": 4,
 "nbformat_minor": 5
}
