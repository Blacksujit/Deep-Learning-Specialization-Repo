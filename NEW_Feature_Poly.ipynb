{
 "cells": [
  {
   "cell_type": "code",
   "execution_count": 75,
   "metadata": {},
   "outputs": [],
   "source": [
    "import pandas as pd\n",
    "import numpy as np\n",
    "import seaborn as sns\n",
    "import matplotlib.pyplot as plt\n",
    "from  sklearn.model_selection import train_test_split\n",
    "from sklearn.linear_model import LinearRegression , LogisticRegression\n"
   ]
  },
  {
   "cell_type": "code",
   "execution_count": 76,
   "metadata": {},
   "outputs": [],
   "source": [
    "df = pd.read_csv(\"polynomial_classification_dataset.csv\")\n"
   ]
  },
  {
   "cell_type": "code",
   "execution_count": 77,
   "metadata": {},
   "outputs": [
    {
     "data": {
      "text/html": [
       "<div>\n",
       "<style scoped>\n",
       "    .dataframe tbody tr th:only-of-type {\n",
       "        vertical-align: middle;\n",
       "    }\n",
       "\n",
       "    .dataframe tbody tr th {\n",
       "        vertical-align: top;\n",
       "    }\n",
       "\n",
       "    .dataframe thead th {\n",
       "        text-align: right;\n",
       "    }\n",
       "</style>\n",
       "<table border=\"1\" class=\"dataframe\">\n",
       "  <thead>\n",
       "    <tr style=\"text-align: right;\">\n",
       "      <th></th>\n",
       "      <th>X1</th>\n",
       "      <th>X2</th>\n",
       "      <th>Class</th>\n",
       "    </tr>\n",
       "  </thead>\n",
       "  <tbody>\n",
       "    <tr>\n",
       "      <th>0</th>\n",
       "      <td>-2.509198</td>\n",
       "      <td>-6.297341</td>\n",
       "      <td>0</td>\n",
       "    </tr>\n",
       "    <tr>\n",
       "      <th>1</th>\n",
       "      <td>9.014286</td>\n",
       "      <td>0.838019</td>\n",
       "      <td>0</td>\n",
       "    </tr>\n",
       "    <tr>\n",
       "      <th>2</th>\n",
       "      <td>4.639879</td>\n",
       "      <td>7.458917</td>\n",
       "      <td>1</td>\n",
       "    </tr>\n",
       "  </tbody>\n",
       "</table>\n",
       "</div>"
      ],
      "text/plain": [
       "         X1        X2  Class\n",
       "0 -2.509198 -6.297341      0\n",
       "1  9.014286  0.838019      0\n",
       "2  4.639879  7.458917      1"
      ]
     },
     "execution_count": 77,
     "metadata": {},
     "output_type": "execute_result"
    }
   ],
   "source": [
    "df.head(3)"
   ]
  },
  {
   "cell_type": "code",
   "execution_count": 78,
   "metadata": {},
   "outputs": [],
   "source": [
    "x = df.iloc[:,:-1]\n",
    "y = df[\"Class\"]"
   ]
  },
  {
   "cell_type": "code",
   "execution_count": 79,
   "metadata": {},
   "outputs": [],
   "source": [
    "from sklearn.preprocessing import PolynomialFeatures\\\n",
    "    "
   ]
  },
  {
   "cell_type": "code",
   "execution_count": 80,
   "metadata": {},
   "outputs": [],
   "source": [
    "pf = PolynomialFeatures(degree=3)\n",
    "pf.fit(x)\n",
    "x= pd.DataFrame(pf.transform(x))\n"
   ]
  },
  {
   "cell_type": "code",
   "execution_count": 81,
   "metadata": {},
   "outputs": [
    {
     "data": {
      "text/plain": [
       "(1000, 10)"
      ]
     },
     "execution_count": 81,
     "metadata": {},
     "output_type": "execute_result"
    }
   ],
   "source": [
    "x.shape"
   ]
  },
  {
   "cell_type": "code",
   "execution_count": 82,
   "metadata": {},
   "outputs": [
    {
     "data": {
      "text/html": [
       "<div>\n",
       "<style scoped>\n",
       "    .dataframe tbody tr th:only-of-type {\n",
       "        vertical-align: middle;\n",
       "    }\n",
       "\n",
       "    .dataframe tbody tr th {\n",
       "        vertical-align: top;\n",
       "    }\n",
       "\n",
       "    .dataframe thead th {\n",
       "        text-align: right;\n",
       "    }\n",
       "</style>\n",
       "<table border=\"1\" class=\"dataframe\">\n",
       "  <thead>\n",
       "    <tr style=\"text-align: right;\">\n",
       "      <th></th>\n",
       "      <th>0</th>\n",
       "      <th>1</th>\n",
       "      <th>2</th>\n",
       "      <th>3</th>\n",
       "      <th>4</th>\n",
       "      <th>5</th>\n",
       "      <th>6</th>\n",
       "      <th>7</th>\n",
       "      <th>8</th>\n",
       "      <th>9</th>\n",
       "    </tr>\n",
       "  </thead>\n",
       "  <tbody>\n",
       "    <tr>\n",
       "      <th>0</th>\n",
       "      <td>1.0</td>\n",
       "      <td>-2.509198</td>\n",
       "      <td>-6.297341</td>\n",
       "      <td>6.296073</td>\n",
       "      <td>15.801274</td>\n",
       "      <td>39.656509</td>\n",
       "      <td>-15.798091</td>\n",
       "      <td>-39.648519</td>\n",
       "      <td>-99.506018</td>\n",
       "      <td>-249.730577</td>\n",
       "    </tr>\n",
       "    <tr>\n",
       "      <th>1</th>\n",
       "      <td>1.0</td>\n",
       "      <td>9.014286</td>\n",
       "      <td>0.838019</td>\n",
       "      <td>81.257354</td>\n",
       "      <td>7.554143</td>\n",
       "      <td>0.702276</td>\n",
       "      <td>732.477043</td>\n",
       "      <td>68.095203</td>\n",
       "      <td>6.330515</td>\n",
       "      <td>0.588520</td>\n",
       "    </tr>\n",
       "    <tr>\n",
       "      <th>2</th>\n",
       "      <td>1.0</td>\n",
       "      <td>4.639879</td>\n",
       "      <td>7.458917</td>\n",
       "      <td>21.528476</td>\n",
       "      <td>34.608470</td>\n",
       "      <td>55.635439</td>\n",
       "      <td>99.889518</td>\n",
       "      <td>160.579107</td>\n",
       "      <td>258.141694</td>\n",
       "      <td>414.980103</td>\n",
       "    </tr>\n",
       "    <tr>\n",
       "      <th>3</th>\n",
       "      <td>1.0</td>\n",
       "      <td>1.973170</td>\n",
       "      <td>4.644498</td>\n",
       "      <td>3.893399</td>\n",
       "      <td>9.164382</td>\n",
       "      <td>21.571359</td>\n",
       "      <td>7.682336</td>\n",
       "      <td>18.082881</td>\n",
       "      <td>42.563952</td>\n",
       "      <td>100.188129</td>\n",
       "    </tr>\n",
       "    <tr>\n",
       "      <th>4</th>\n",
       "      <td>1.0</td>\n",
       "      <td>-6.879627</td>\n",
       "      <td>6.131223</td>\n",
       "      <td>47.329270</td>\n",
       "      <td>-42.180528</td>\n",
       "      <td>37.591895</td>\n",
       "      <td>-325.607735</td>\n",
       "      <td>290.186309</td>\n",
       "      <td>-258.618223</td>\n",
       "      <td>230.484289</td>\n",
       "    </tr>\n",
       "    <tr>\n",
       "      <th>...</th>\n",
       "      <td>...</td>\n",
       "      <td>...</td>\n",
       "      <td>...</td>\n",
       "      <td>...</td>\n",
       "      <td>...</td>\n",
       "      <td>...</td>\n",
       "      <td>...</td>\n",
       "      <td>...</td>\n",
       "      <td>...</td>\n",
       "      <td>...</td>\n",
       "    </tr>\n",
       "    <tr>\n",
       "      <th>995</th>\n",
       "      <td>1.0</td>\n",
       "      <td>-8.168359</td>\n",
       "      <td>3.139103</td>\n",
       "      <td>66.722081</td>\n",
       "      <td>-25.641320</td>\n",
       "      <td>9.853968</td>\n",
       "      <td>-545.009881</td>\n",
       "      <td>209.447493</td>\n",
       "      <td>-80.490747</td>\n",
       "      <td>30.932623</td>\n",
       "    </tr>\n",
       "    <tr>\n",
       "      <th>996</th>\n",
       "      <td>1.0</td>\n",
       "      <td>8.346272</td>\n",
       "      <td>9.132292</td>\n",
       "      <td>69.660248</td>\n",
       "      <td>76.220592</td>\n",
       "      <td>83.398765</td>\n",
       "      <td>581.403344</td>\n",
       "      <td>636.157756</td>\n",
       "      <td>696.068735</td>\n",
       "      <td>761.621908</td>\n",
       "    </tr>\n",
       "    <tr>\n",
       "      <th>997</th>\n",
       "      <td>1.0</td>\n",
       "      <td>-7.263627</td>\n",
       "      <td>-8.620840</td>\n",
       "      <td>52.760283</td>\n",
       "      <td>62.618567</td>\n",
       "      <td>74.318877</td>\n",
       "      <td>-383.231034</td>\n",
       "      <td>-454.837939</td>\n",
       "      <td>-539.824628</td>\n",
       "      <td>-640.691120</td>\n",
       "    </tr>\n",
       "    <tr>\n",
       "      <th>998</th>\n",
       "      <td>1.0</td>\n",
       "      <td>9.004747</td>\n",
       "      <td>-8.858906</td>\n",
       "      <td>81.085470</td>\n",
       "      <td>-79.772204</td>\n",
       "      <td>78.480208</td>\n",
       "      <td>730.154148</td>\n",
       "      <td>-718.328522</td>\n",
       "      <td>706.694424</td>\n",
       "      <td>-695.248753</td>\n",
       "    </tr>\n",
       "    <tr>\n",
       "      <th>999</th>\n",
       "      <td>1.0</td>\n",
       "      <td>-1.079885</td>\n",
       "      <td>-4.356259</td>\n",
       "      <td>1.166151</td>\n",
       "      <td>4.704256</td>\n",
       "      <td>18.976988</td>\n",
       "      <td>-1.259308</td>\n",
       "      <td>-5.080054</td>\n",
       "      <td>-20.492956</td>\n",
       "      <td>-82.668666</td>\n",
       "    </tr>\n",
       "  </tbody>\n",
       "</table>\n",
       "<p>1000 rows × 10 columns</p>\n",
       "</div>"
      ],
      "text/plain": [
       "       0         1         2          3          4          5           6  \\\n",
       "0    1.0 -2.509198 -6.297341   6.296073  15.801274  39.656509  -15.798091   \n",
       "1    1.0  9.014286  0.838019  81.257354   7.554143   0.702276  732.477043   \n",
       "2    1.0  4.639879  7.458917  21.528476  34.608470  55.635439   99.889518   \n",
       "3    1.0  1.973170  4.644498   3.893399   9.164382  21.571359    7.682336   \n",
       "4    1.0 -6.879627  6.131223  47.329270 -42.180528  37.591895 -325.607735   \n",
       "..   ...       ...       ...        ...        ...        ...         ...   \n",
       "995  1.0 -8.168359  3.139103  66.722081 -25.641320   9.853968 -545.009881   \n",
       "996  1.0  8.346272  9.132292  69.660248  76.220592  83.398765  581.403344   \n",
       "997  1.0 -7.263627 -8.620840  52.760283  62.618567  74.318877 -383.231034   \n",
       "998  1.0  9.004747 -8.858906  81.085470 -79.772204  78.480208  730.154148   \n",
       "999  1.0 -1.079885 -4.356259   1.166151   4.704256  18.976988   -1.259308   \n",
       "\n",
       "              7           8           9  \n",
       "0    -39.648519  -99.506018 -249.730577  \n",
       "1     68.095203    6.330515    0.588520  \n",
       "2    160.579107  258.141694  414.980103  \n",
       "3     18.082881   42.563952  100.188129  \n",
       "4    290.186309 -258.618223  230.484289  \n",
       "..          ...         ...         ...  \n",
       "995  209.447493  -80.490747   30.932623  \n",
       "996  636.157756  696.068735  761.621908  \n",
       "997 -454.837939 -539.824628 -640.691120  \n",
       "998 -718.328522  706.694424 -695.248753  \n",
       "999   -5.080054  -20.492956  -82.668666  \n",
       "\n",
       "[1000 rows x 10 columns]"
      ]
     },
     "execution_count": 82,
     "metadata": {},
     "output_type": "execute_result"
    }
   ],
   "source": [
    "x"
   ]
  },
  {
   "cell_type": "code",
   "execution_count": 83,
   "metadata": {},
   "outputs": [],
   "source": [
    "x_test, x_train, y_test , y_train = train_test_split(x,y,test_size=0.2 , random_state=42)"
   ]
  },
  {
   "cell_type": "code",
   "execution_count": 84,
   "metadata": {},
   "outputs": [
    {
     "name": "stderr",
     "output_type": "stream",
     "text": [
      "c:\\Users\\HP\\healthcare\\noman\\Lib\\site-packages\\sklearn\\linear_model\\_logistic.py:460: ConvergenceWarning: lbfgs failed to converge (status=1):\n",
      "STOP: TOTAL NO. of ITERATIONS REACHED LIMIT.\n",
      "\n",
      "Increase the number of iterations (max_iter) or scale the data as shown in:\n",
      "    https://scikit-learn.org/stable/modules/preprocessing.html\n",
      "Please also refer to the documentation for alternative solver options:\n",
      "    https://scikit-learn.org/stable/modules/linear_model.html#logistic-regression\n",
      "  n_iter_i = _check_optimize_result(\n"
     ]
    },
    {
     "data": {
      "text/plain": [
       "98.5"
      ]
     },
     "execution_count": 84,
     "metadata": {},
     "output_type": "execute_result"
    }
   ],
   "source": [
    "lr = LogisticRegression()\n",
    "lr.fit(x_train,y_train)\n",
    "lr.score(x_test,y_test)*100 "
   ]
  },
  {
   "cell_type": "code",
   "execution_count": 87,
   "metadata": {},
   "outputs": [
    {
     "data": {
      "text/plain": [
       "array([0], dtype=int64)"
      ]
     },
     "execution_count": 87,
     "metadata": {},
     "output_type": "execute_result"
    }
   ],
   "source": [
    "lr.predict([[23, 34 ,34,34, 34,34, 34, 34, 34, 34,]])"
   ]
  },
  {
   "cell_type": "code",
   "execution_count": null,
   "metadata": {},
   "outputs": [],
   "source": []
  }
 ],
 "metadata": {
  "kernelspec": {
   "display_name": "noman",
   "language": "python",
   "name": "python3"
  },
  "language_info": {
   "codemirror_mode": {
    "name": "ipython",
    "version": 3
   },
   "file_extension": ".py",
   "mimetype": "text/x-python",
   "name": "python",
   "nbconvert_exporter": "python",
   "pygments_lexer": "ipython3",
   "version": "3.11.3"
  }
 },
 "nbformat": 4,
 "nbformat_minor": 2
}
