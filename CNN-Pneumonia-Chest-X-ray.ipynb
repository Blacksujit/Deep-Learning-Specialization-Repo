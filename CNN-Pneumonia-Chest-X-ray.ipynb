{
 "cells": [
  {
   "cell_type": "markdown",
   "metadata": {},
   "source": [
    "# We are Performing and Rough Analysis On the Chest Classification X-rays using an Custom Build CNN Model "
   ]
  },
  {
   "cell_type": "code",
   "execution_count": 2,
   "metadata": {},
   "outputs": [],
   "source": [
    "# Import necessary libraries"
   ]
  },
  {
   "cell_type": "code",
   "execution_count": 3,
   "metadata": {},
   "outputs": [],
   "source": [
    "\n",
    "\n",
    "import numpy as np \n",
    "import matplotlib.pyplot as plt\n",
    "import pandas as pd\n",
    "import seaborn as sns\n",
    "from sklearn.metrics import classification_report, confusion_matrix\n",
    "from sklearn.metrics import roc_curve\n",
    "from sklearn.metrics import roc_auc_score\n",
    "from sklearn.metrics import auc\n",
    "import keras\n",
    "import tensorflow as tf\n",
    "from keras import backend as K\n",
    "from keras import metrics\n",
    "from keras.regularizers import l2\n",
    "from keras.models import Sequential\n",
    "from keras.layers import Conv2D, MaxPooling2D, Flatten, Dense, Dropout, BatchNormalization, InputLayer, Activation\n",
    "from keras.preprocessing.image import ImageDataGenerator\n",
    "from keras.metrics import AUC\n",
    "from keras.optimizers import Adam\n",
    "from keras.callbacks import EarlyStopping\n",
    "from sklearn.metrics import classification_report, confusion_matrix"
   ]
  },
  {
   "cell_type": "code",
   "execution_count": 4,
   "metadata": {},
   "outputs": [],
   "source": [
    "# Setting an Random seed class or base for the Model Training and testing"
   ]
  },
  {
   "cell_type": "code",
   "execution_count": 12,
   "metadata": {},
   "outputs": [],
   "source": [
    "\n",
    "# Set a seed value\n",
    "seed_value= 42\n",
    "\n",
    "# 1. Set `PYTHONHASHSEED` environment variable at a fixed value\n",
    "import os\n",
    "os.environ['PYTHONHASHSEED']=str(seed_value)\n",
    "\n",
    "# 2. Set `python` built-in pseudo-random generator at a fixed value\n",
    "import random\n",
    "random.seed(seed_value)\n",
    "\n",
    "# 3. Set `numpy` pseudo-random generator at a fixed value\n",
    "np.random.seed(seed_value)\n",
    "\n",
    "# 4. Set `tensorflow` pseudo-random generator at a fixed value\n",
    "\n",
    "#  TensorFlow's random\n",
    "tf.random.set_seed(seed_value)\n",
    "\n",
    "# 5. For layers that introduce randomness like dropout, make sure to set seed values \n",
    "#model.add(Dropout(0.25, seed=seed_value))\n",
    "\n",
    "# #6 Configure a new global `tensorflow` session\n",
    "# session_conf = tf.ConfigProto(intra_op_parallelism_threads=1, inter_op_parallelism_threads=1)\n",
    "# sess = tf.Session(graph=tf.get_default_graph(), config=session_conf)\n"
   ]
  },
  {
   "cell_type": "code",
   "execution_count": 13,
   "metadata": {},
   "outputs": [],
   "source": [
    "# Generate batches of image data (train, validation, and test) with data augmentation"
   ]
  },
  {
   "cell_type": "code",
   "execution_count": 1,
   "metadata": {},
   "outputs": [],
   "source": [
    "\n",
    "# ## Set file paths to image files\n",
    "# project_path = \"\\\\Users\\\\hellojenny\\\\Metis\\\\Metis-Bootcamp\\\\Projects/Project 5 - Image Prediction using CNN\"\n",
    "# train_path = project_path + \"/chest_xray/train/\"\n",
    "# val_path = project_path + \"/chest_xray/val/\"\n",
    "# test_path = project_path + \"/chest_xray/test/\"\n",
    "\n",
    "# ## Set up hyperparameters that will be used later\n",
    "# hyper_dimension = 64\n",
    "# hyper_batch_size = 128\n",
    "# hyper_epochs = 100\n",
    "# hyper_channels = 1\n",
    "# hyper_mode = 'grayscale'\n",
    "\n",
    "# ## Generate batches of image data (train, validation, and test) with data augmentation\n",
    "# train_datagen = ImageDataGenerator(rescale=1.0/255.0, \n",
    "#                                    shear_range = 0.2,\n",
    "#                                    zoom_range = 0.2, \n",
    "#                                    horizontal_flip = True)\n",
    "# val_datagen = ImageDataGenerator(rescale=1.0/255.0) \n",
    "# test_datagen = ImageDataGenerator(rescale=1.0/255.0) \n",
    "\n",
    "\n",
    "# train_generator = train_datagen.flow_from_directory(directory = train_path, \n",
    "#                                                     target_size = (hyper_dimension, hyper_dimension),\n",
    "#                                                     batch_size = hyper_batch_size, \n",
    "#                                                     color_mode = hyper_mode,\n",
    "#                                                     class_mode = 'binary', \n",
    "#                                                     seed = 42)\n",
    "# val_generator = val_datagen.flow_from_directory(directory = val_path, \n",
    "#                                                  target_size = (hyper_dimension, hyper_dimension),\n",
    "#                                                  batch_size = hyper_batch_size, \n",
    "#                                                  class_mode = 'binary',\n",
    "#                                                  color_mode = hyper_mode,\n",
    "#                                                  shuffle=False,\n",
    "#                                                  seed = 42)\n",
    "# test_generator = test_datagen.flow_from_directory(directory = test_path, \n",
    "#                                                  target_size = (hyper_dimension, hyper_dimension),\n",
    "#                                                  batch_size = hyper_batch_size, \n",
    "#                                                  class_mode = 'binary',\n",
    "#                                                  color_mode = hyper_mode,\n",
    "#                                                  shuffle=False,\n",
    "#                                                  seed = 42)\n",
    "\n",
    "# test_generator.reset()\n",
    "\n",
    "\n",
    "# Some issues with this code the dataset i think the notebook needds to be handled on the kaggle platform "
   ]
  },
  {
   "cell_type": "code",
   "execution_count": 2,
   "metadata": {},
   "outputs": [],
   "source": [
    "# we will implement the errorless code tommorwise currently in interview prep of the PM  Tech interview round 🛜🛜"
   ]
  },
  {
   "cell_type": "code",
   "execution_count": null,
   "metadata": {},
   "outputs": [],
   "source": [
    "\n"
   ]
  }
 ],
 "metadata": {
  "kernelspec": {
   "display_name": "Python 3",
   "language": "python",
   "name": "python3"
  },
  "language_info": {
   "codemirror_mode": {
    "name": "ipython",
    "version": 3
   },
   "file_extension": ".py",
   "mimetype": "text/x-python",
   "name": "python",
   "nbconvert_exporter": "python",
   "pygments_lexer": "ipython3",
   "version": "3.11.3"
  }
 },
 "nbformat": 4,
 "nbformat_minor": 2
}
